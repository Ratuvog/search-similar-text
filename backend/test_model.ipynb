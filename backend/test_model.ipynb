{
 "cells": [
  {
   "cell_type": "code",
   "execution_count": 18,
   "metadata": {
    "collapsed": true,
    "pycharm": {
     "is_executing": false
    }
   },
   "outputs": [],
   "source": [
    "from dataclasses import dataclass\n",
    "from typing import List\n",
    "import numpy as np\n",
    "\n",
    "import spacy\n",
    "from spacy.tokens.span import Span"
   ]
  },
  {
   "cell_type": "code",
   "execution_count": null,
   "outputs": [],
   "source": [
    "nlp = spacy.load(\"en_core_web_md\")"
   ],
   "metadata": {
    "collapsed": false,
    "pycharm": {
     "name": "#%%\n"
    }
   }
  },
  {
   "cell_type": "code",
   "execution_count": 106,
   "outputs": [],
   "source": [
    "text_example = 'The large color photograph that greets visitors to a National Archives exhibit celebrating the centennial of women’s suffrage shows a massive crowd filling Pennsylvania Avenue NW for the Women’s March on Jan. 21, 2017, the day after President Trump’s inauguration. \\\n",
    "The 49-by-69-inch photograph is a powerful display. Viewed from one perspective, it shows the 2017 march. Viewed from another angle, it shifts to show a 1913 black-and-white image of a women’s suffrage march also on Pennsylvania Avenue. The display links momentous demonstrations for women’s rights more than a century apart on the same stretch of pavement. \\\n",
    "But a closer look reveals a different story. \\\n",
    "The Archives acknowledged in a statement this week that it made multiple alterations to the photo of the 2017 Women’s March showcased at the museum, blurring signs held by marchers that were critical of Trump. Words on signs that referenced women’s anatomy were also blurred.'\n",
    "\n",
    "text_storage = [\n",
    "    'This year marks the start of a new decade, and the end of a generation of video games. Sony and Microsoft are set to launch new systems during the holidays, marking the beginning of a new phase in gaming. But that’s good news: Traditionally, the games launched at the end of a generation are among that generation’s best.',\n",
    "    'Apple’s stance on encryption and user privacy is once again under the spotlight as the Federal Bureau of Investigation seeks the company’s help in decrypting two iPhones used by a Royal Saudi Air Force cadet who opened fire at a naval base in Pensacola, Fl. in December, killing three people before he himself was killed by police.',\n",
    "]\n",
    "\n",
    "texts_index = {}\n",
    "\n",
    "def process_sentence(sentence):\n",
    "    result = []\n",
    "    for token in sentence:\n",
    "        if token.text.lower() in nlp.Defaults.stop_words:\n",
    "            continue\n",
    "        if token.is_punct:\n",
    "            continue\n",
    "        if token.lemma_ == '-PRON-':\n",
    "            continue\n",
    "        result.append(token.lemma_)\n",
    "    return nlp(\" \".join(result))\n",
    "        \n",
    "\n",
    "def add_text_to_index(key, text):\n",
    "    doc = nlp(text)\n",
    "    texts_index[key] = {\n",
    "        'origin': text,\n",
    "        'sentences': [],\n",
    "        'vectors': []\n",
    "    }\n",
    "    for sent in doc.sents:\n",
    "        processed_sentence = process_sentence(sent)\n",
    "        texts_index[key]['sentences'].append({\n",
    "            'origin': str(sent),\n",
    "            'processed': str(processed_sentence)\n",
    "        })\n",
    "        texts_index[key]['vectors'].append(processed_sentence.vector)\n",
    "        \n",
    "    texts_index[key]['vectors'] = np.array(texts_index[key]['vectors'])\n",
    "    \n",
    "for i, text in enumerate(text_storage):\n",
    "    add_text_to_index(i, text)\n"
   ],
   "metadata": {
    "collapsed": false,
    "pycharm": {
     "name": "#%%\n",
     "is_executing": false
    }
   }
  },
  {
   "cell_type": "code",
   "execution_count": 112,
   "outputs": [
    {
     "name": "stdout",
     "text": [
      "[{'text_id': 2, 'score': 0.47176138}, {'text_id': 1, 'score': 0.38226873}, {'text_id': 0, 'score': 0.33044702}]\n"
     ],
     "output_type": "stream"
    }
   ],
   "source": [
    "def search_similar_texts(sentence_vec, texts_vectors, result=None):\n",
    "    result = result or []\n",
    "    for key, vectors in texts_vectors.items():\n",
    "        result.append({\n",
    "            'text_id': key,\n",
    "            'score': np.median(cos_matrix_multiplication(vectors, sentence_vec)) \n",
    "        })\n",
    "    result.sort(key=lambda x: x['score'], reverse=True)\n",
    "    return result\n",
    "\n",
    "def cos_matrix_multiplication(matrix, vector):\n",
    "    \"\"\"\n",
    "    Calculating pairwise cosine distance using matrix vector multiplication.\n",
    "    \"\"\"\n",
    "    dotted = matrix.dot(vector)\n",
    "    matrix_norms = np.linalg.norm(matrix, axis=1)\n",
    "    vector_norm = np.linalg.norm(vector)\n",
    "    matrix_vector_norms = np.multiply(matrix_norms, vector_norm)\n",
    "    neighbors = np.divide(dotted, matrix_vector_norms)\n",
    "    return neighbors\n",
    "\n",
    "\n",
    "doc = nlp(text_example)\n",
    "processed_sentence = process_sentence(next(doc.sents))\n",
    "sentence_vec = processed_sentence.vector\n",
    "search_result = search_similar_texts(sentence_vec, {i: text['vectors'] for i, text in texts_index.items()})\n",
    "print(search_result)\n",
    "\n"
   ],
   "metadata": {
    "collapsed": false,
    "pycharm": {
     "name": "#%%\n",
     "is_executing": false
    }
   }
  }
 ],
 "metadata": {
  "kernelspec": {
   "display_name": "Python 3",
   "language": "python",
   "name": "python3"
  },
  "language_info": {
   "codemirror_mode": {
    "name": "ipython",
    "version": 2
   },
   "file_extension": ".py",
   "mimetype": "text/x-python",
   "name": "python",
   "nbconvert_exporter": "python",
   "pygments_lexer": "ipython2",
   "version": "2.7.6"
  },
  "pycharm": {
   "stem_cell": {
    "cell_type": "raw",
    "source": [],
    "metadata": {
     "collapsed": false
    }
   }
  }
 },
 "nbformat": 4,
 "nbformat_minor": 0
}